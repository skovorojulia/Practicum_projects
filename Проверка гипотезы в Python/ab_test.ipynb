{
 "cells": [
  {
   "cell_type": "markdown",
   "id": "_E41Wr5fqnFT",
   "metadata": {
    "id": "_E41Wr5fqnFT"
   },
   "source": [
    "# Часть 1. Проверка гипотезы в Python и составление аналитической записки"
   ]
  },
  {
   "cell_type": "markdown",
   "id": "e06910dd",
   "metadata": {
    "id": "e06910dd"
   },
   "source": [
    "- Автор: Сковородина Ю. А.\n",
    "- Дата: 24.05.2025"
   ]
  },
  {
   "cell_type": "markdown",
   "id": "4149134c",
   "metadata": {
    "id": "4149134c"
   },
   "source": [
    "**Цель:**\n",
    "Провести исследовательский анализ данных пользователей Яндекс Книги и оценить результаты A/B-тестирования в BitMotion Kit для проверки гипотез и принятия решений на основе статистических выводов.\n"
   ]
  },
  {
   "cell_type": "markdown",
   "id": "6f7d21d6",
   "metadata": {
    "id": "6f7d21d6"
   },
   "source": [
    "## 1. Загрузка данных и знакомство с ними"
   ]
  },
  {
   "cell_type": "code",
   "execution_count": 1,
   "id": "05faf34b",
   "metadata": {
    "id": "05faf34b"
   },
   "outputs": [],
   "source": [
    "# Импорт стандартных библиотек\n",
    "import numpy as np\n",
    "import pandas as pd\n",
    "import matplotlib.pyplot as plt\n",
    "import seaborn as sns\n",
    "\n",
    "# Импорт внешних библиотек\n",
    "from scipy import stats\n",
    "from scipy.stats import ttest_ind\n",
    "from statsmodels.stats.proportion import proportions_ztest\n",
    "from statsmodels.stats.power import NormalIndPower"
   ]
  },
  {
   "cell_type": "code",
   "execution_count": 2,
   "id": "ce87c1db",
   "metadata": {
    "id": "ce87c1db"
   },
   "outputs": [
    {
     "data": {
      "text/html": [
       "<div>\n",
       "<style scoped>\n",
       "    .dataframe tbody tr th:only-of-type {\n",
       "        vertical-align: middle;\n",
       "    }\n",
       "\n",
       "    .dataframe tbody tr th {\n",
       "        vertical-align: top;\n",
       "    }\n",
       "\n",
       "    .dataframe thead th {\n",
       "        text-align: right;\n",
       "    }\n",
       "</style>\n",
       "<table border=\"1\" class=\"dataframe\">\n",
       "  <thead>\n",
       "    <tr style=\"text-align: right;\">\n",
       "      <th></th>\n",
       "      <th>Unnamed: 0</th>\n",
       "      <th>city</th>\n",
       "      <th>puid</th>\n",
       "      <th>hours</th>\n",
       "    </tr>\n",
       "  </thead>\n",
       "  <tbody>\n",
       "    <tr>\n",
       "      <th>0</th>\n",
       "      <td>0</td>\n",
       "      <td>Москва</td>\n",
       "      <td>9668</td>\n",
       "      <td>26.167776</td>\n",
       "    </tr>\n",
       "    <tr>\n",
       "      <th>1</th>\n",
       "      <td>1</td>\n",
       "      <td>Москва</td>\n",
       "      <td>16598</td>\n",
       "      <td>82.111217</td>\n",
       "    </tr>\n",
       "    <tr>\n",
       "      <th>2</th>\n",
       "      <td>2</td>\n",
       "      <td>Москва</td>\n",
       "      <td>80401</td>\n",
       "      <td>4.656906</td>\n",
       "    </tr>\n",
       "    <tr>\n",
       "      <th>3</th>\n",
       "      <td>3</td>\n",
       "      <td>Москва</td>\n",
       "      <td>140205</td>\n",
       "      <td>1.840556</td>\n",
       "    </tr>\n",
       "    <tr>\n",
       "      <th>4</th>\n",
       "      <td>4</td>\n",
       "      <td>Москва</td>\n",
       "      <td>248755</td>\n",
       "      <td>151.326434</td>\n",
       "    </tr>\n",
       "  </tbody>\n",
       "</table>\n",
       "</div>"
      ],
      "text/plain": [
       "   Unnamed: 0    city    puid       hours\n",
       "0           0  Москва    9668   26.167776\n",
       "1           1  Москва   16598   82.111217\n",
       "2           2  Москва   80401    4.656906\n",
       "3           3  Москва  140205    1.840556\n",
       "4           4  Москва  248755  151.326434"
      ]
     },
     "execution_count": 2,
     "metadata": {},
     "output_type": "execute_result"
    }
   ],
   "source": [
    "# Загрузка данных\n",
    "yandex_data = pd.read_csv('/datasets/yandex_knigi_data.csv')\n",
    "\n",
    "# Выводим первые строки датафрейма на экран\n",
    "yandex_data.head()"
   ]
  },
  {
   "cell_type": "code",
   "execution_count": 3,
   "id": "f68a7419",
   "metadata": {
    "id": "f68a7419"
   },
   "outputs": [
    {
     "name": "stdout",
     "output_type": "stream",
     "text": [
      "<class 'pandas.core.frame.DataFrame'>\n",
      "RangeIndex: 8784 entries, 0 to 8783\n",
      "Data columns (total 4 columns):\n",
      " #   Column      Non-Null Count  Dtype  \n",
      "---  ------      --------------  -----  \n",
      " 0   Unnamed: 0  8784 non-null   int64  \n",
      " 1   city        8784 non-null   object \n",
      " 2   puid        8784 non-null   int64  \n",
      " 3   hours       8784 non-null   float64\n",
      "dtypes: float64(1), int64(2), object(1)\n",
      "memory usage: 274.6+ KB\n"
     ]
    }
   ],
   "source": [
    "# Выводим информацию о датафрейме\n",
    "yandex_data.info()"
   ]
  },
  {
   "cell_type": "code",
   "execution_count": 4,
   "id": "8bec8b7f",
   "metadata": {},
   "outputs": [
    {
     "name": "stdout",
     "output_type": "stream",
     "text": [
      "Количество уникальных пользователей: 8540\n"
     ]
    }
   ],
   "source": [
    "# Количество уникальных пользователей (puid)\n",
    "unique_users = yandex_data['puid'].nunique()\n",
    "print(f\"Количество уникальных пользователей: {unique_users}\")"
   ]
  },
  {
   "cell_type": "markdown",
   "id": "1011f0f0",
   "metadata": {},
   "source": [
    "Количество уникальных пользователей — 8540 из 8784 записей, что указывает на наличие дубликатов в данных. Теперь перейдём к их проверке."
   ]
  },
  {
   "cell_type": "code",
   "execution_count": 5,
   "id": "7bd086b3",
   "metadata": {},
   "outputs": [
    {
     "name": "stdout",
     "output_type": "stream",
     "text": [
      "Количество дубликатов: 244\n"
     ]
    }
   ],
   "source": [
    "# Поиск дубликатов по идентификатору пользователя\n",
    "puid_duplicates = yandex_data[yandex_data.duplicated(subset=['puid'])]\n",
    "print(f\"Количество дубликатов: {len(puid_duplicates)}\")"
   ]
  },
  {
   "cell_type": "code",
   "execution_count": 6,
   "id": "38b8f8ab",
   "metadata": {},
   "outputs": [],
   "source": [
    "# Удаляем дубликаты\n",
    "yandex_data = yandex_data.drop_duplicates(subset='puid')"
   ]
  },
  {
   "cell_type": "code",
   "execution_count": 7,
   "id": "4fc046bd",
   "metadata": {},
   "outputs": [
    {
     "name": "stdout",
     "output_type": "stream",
     "text": [
      "<class 'pandas.core.frame.DataFrame'>\n",
      "Int64Index: 8540 entries, 0 to 8783\n",
      "Data columns (total 4 columns):\n",
      " #   Column      Non-Null Count  Dtype  \n",
      "---  ------      --------------  -----  \n",
      " 0   Unnamed: 0  8540 non-null   int64  \n",
      " 1   city        8540 non-null   object \n",
      " 2   puid        8540 non-null   int64  \n",
      " 3   hours       8540 non-null   float64\n",
      "dtypes: float64(1), int64(2), object(1)\n",
      "memory usage: 333.6+ KB\n"
     ]
    }
   ],
   "source": [
    "# Проверим размерность датафрейма после удаления дубликатов\n",
    "yandex_data.info()"
   ]
  },
  {
   "cell_type": "markdown",
   "id": "273ade31",
   "metadata": {},
   "source": [
    "В ходе загрузки данных выявлено 8784 записи с 8540 уникальными пользователями, что указало на наличие дубликатов - 244 записи. Полные дубликаты были успешно удалены, итоговый объём данных составил 8540 строк. Данные готовы для дальнейшего анализа."
   ]
  },
  {
   "cell_type": "code",
   "execution_count": 8,
   "id": "67956690",
   "metadata": {
    "id": "67956690"
   },
   "outputs": [
    {
     "name": "stdout",
     "output_type": "stream",
     "text": [
      "Статистика по времени активности (в часах) для Москвы:\n",
      "count    6234.000000\n",
      "mean       10.881092\n",
      "std        36.851683\n",
      "min         0.000018\n",
      "25%         0.059903\n",
      "50%         0.924498\n",
      "75%         5.939972\n",
      "max       857.209373\n",
      "Name: hours, dtype: float64\n",
      "\n",
      "Статистика по времени активности (в часах) для Санкт-Петербурга:\n",
      "count    2306.000000\n",
      "mean       11.264433\n",
      "std        39.831755\n",
      "min         0.000025\n",
      "25%         0.060173\n",
      "50%         0.875355\n",
      "75%         6.138424\n",
      "max       978.764775\n",
      "Name: hours, dtype: float64\n"
     ]
    }
   ],
   "source": [
    "# Разделяем выборки на Москву и Санкт-Петербург\n",
    "moscow = yandex_data.query(\"city == 'Москва'\")['hours']\n",
    "spb = yandex_data.query(\"city == 'Санкт-Петербург'\")['hours']\n",
    "\n",
    "# Выводим описательную статистику по времени активности для двух городов\n",
    "print(\"Статистика по времени активности (в часах) для Москвы:\")\n",
    "print(moscow.describe())\n",
    "\n",
    "print(\"\\nСтатистика по времени активности (в часах) для Санкт-Петербурга:\")\n",
    "print(spb.describe())"
   ]
  },
  {
   "cell_type": "markdown",
   "id": "06f3f89a",
   "metadata": {},
   "source": [
    "- Проверим, сколько пользователей в каждой группе:"
   ]
  },
  {
   "cell_type": "code",
   "execution_count": 9,
   "id": "b964c454",
   "metadata": {},
   "outputs": [
    {
     "name": "stdout",
     "output_type": "stream",
     "text": [
      "Количество пользователей в выборках:\n",
      "Москва             6234\n",
      "Санкт-Петербург    2306\n",
      "Name: city, dtype: int64\n"
     ]
    }
   ],
   "source": [
    "# Смотрим количество пользователей в двух городах\n",
    "print(\"Количество пользователей в выборках:\")\n",
    "print(yandex_data['city'].value_counts())"
   ]
  },
  {
   "cell_type": "markdown",
   "id": "ce6126cd",
   "metadata": {},
   "source": [
    "- Покажем распределение времени активности пользователей в двух городах на графике"
   ]
  },
  {
   "cell_type": "code",
   "execution_count": 10,
   "id": "65b7f684",
   "metadata": {},
   "outputs": [
    {
     "data": {
      "image/png": "[encoded data removed]",
      "text/plain": [
       "<Figure size 864x432 with 1 Axes>"
      ]
     },
     "metadata": {
      "needs_background": "light"
     },
     "output_type": "display_data"
    }
   ],
   "source": [
    "# Сгруппируем данные\n",
    "cities_data = yandex_data[yandex_data['city'].isin(['Москва', 'Санкт-Петербург'])]\n",
    "\n",
    "# Визуализация распределений\n",
    "plt.figure(figsize=(12, 6))\n",
    "sns.histplot(data=cities_data, x='hours', hue='city', bins=50, kde=True, palette={'Москва': 'orange', 'Санкт-Петербург': 'green'})\n",
    "plt.title('Распределение времени активности пользователей в Москве и Санкт-Петербурге')\n",
    "plt.xlabel('Часы активности')\n",
    "plt.ylabel('Количество пользователей')\n",
    "plt.grid(True)\n",
    "\n",
    "plt.show()"
   ]
  },
  {
   "cell_type": "markdown",
   "id": "196a8093",
   "metadata": {},
   "source": [
    "Глядя на распределение времени активности пользователей на графике, можно заметить сильную асимметрию — большинство пользователей проводят мало времени в приложении, но есть выбросы с высокими значениями. Для проверки гипотезы используем t-тест Стьюдента."
   ]
  },
  {
   "cell_type": "code",
   "execution_count": 11,
   "id": "3826933a",
   "metadata": {},
   "outputs": [
    {
     "name": "stdout",
     "output_type": "stream",
     "text": [
      "p-value: 0.338193679651558\n",
      "\n",
      "Нет статистически значимых различий между Москвой и Санкт-Петербургом.\n"
     ]
    }
   ],
   "source": [
    "# Сформулируем гипотезы:\n",
    "# H₀: среднее время активности пользователей в Москве и Санкт-Петербурге одинаково.\n",
    "# H₁: пользователи из Санкт-Петербурга проводят в среднем больше времени в приложении, чем пользователи из Москвы.\n",
    "\n",
    "# Применяем односторонний t-тест Стьюдента\n",
    "t_stat, p_value = ttest_ind(spb, moscow, alternative='greater')\n",
    "\n",
    "# Фиксируем уровень значимости\n",
    "alpha = 0.05\n",
    "\n",
    "# Результат статистического теста\n",
    "print(f\"p-value: {p_value}\")\n",
    "\n",
    "if p_value < alpha:\n",
    "    print(\"\\nРезультат статистически значим: пользователи из Санкт-Петербурга действительно проводят больше времени в приложении, чем из Москвы.\")\n",
    "else:\n",
    "    print(\"\\nНет статистически значимых различий между Москвой и Санкт-Петербургом.\")"
   ]
  },
  {
   "cell_type": "markdown",
   "id": "77d6245c",
   "metadata": {},
   "source": [
    "Результаты показывают, что гипотеза о большей активности пользователей из Санкт-Петербурга не подтвердилась. Различия в поведении пользователей между двумя городами незначимы, и мы можем считать поведение пользователей из Москвы и Санкт-Петербурга сопоставимым по времени активности."
   ]
  },
  {
   "cell_type": "markdown",
   "id": "6953e84c",
   "metadata": {
    "id": "6953e84c"
   },
   "source": [
    "## 3. Аналитическая записка\n",
    "\n",
    "\n"
   ]
  },
  {
   "cell_type": "markdown",
   "id": "21ff3cdb",
   "metadata": {},
   "source": [
    "**Тип теста и уровень значимости:**\n",
    "Так как мы сравнивали два города — Москву и Санкт-Петербург — и хотели понять, проводят ли пользователи из Питера больше времени в приложении, применили односторонний t-тест Стьюдента, несмотря на асимметрию в распределении. Уровень значимости — 0.05.\n",
    "\n",
    "**Результаты:**\n",
    "p-value = 0.338\n",
    "\n",
    "**Вывод:**\n",
    "Так как p-value выше порогового значения, нулевая гипотеза не отвергается. Это означает, что статистически значимых различий в среднем времени активности между пользователями из Москвы и Санкт-Петербурга не выявлено.\n",
    "\n",
    "**Возможные объяснения:**\n",
    "\n",
    "- Пользователи в обоих городах могут иметь схожие привычки потребления цифрового контента.\n",
    "\n",
    "- Дополнительные факторы вроде маркетинговых кампаний, интерфейса или одинаковых рекомендаций внутри приложения могут нивелировать влияние региона."
   ]
  },
  {
   "cell_type": "markdown",
   "id": "NqOUIYhbrIfC",
   "metadata": {
    "id": "NqOUIYhbrIfC"
   },
   "source": [
    "# Часть 2. Анализ результатов A/B-теста BitMotion Kit"
   ]
  },
  {
   "cell_type": "markdown",
   "id": "kHx-51yES8bd",
   "metadata": {
    "id": "kHx-51yES8bd"
   },
   "source": [
    "В данном разделе проводится анализ A/B-тестирования нового интерфейса BitMotion Kit.\n",
    "\n",
    "**Цель исследования**: Оценить, влияет ли новый интерфейс сайта BitMotion Kit на увеличение доли зарегистрированных пользователей, совершивших покупку в течение 7 дней после регистрации."
   ]
  },
  {
   "cell_type": "code",
   "execution_count": 12,
   "id": "DjFcJbeGsTIg",
   "metadata": {
    "id": "DjFcJbeGsTIg"
   },
   "outputs": [],
   "source": [
    "participants = pd.read_csv('https://code.s3.yandex.net/datasets/ab_test_participants.csv')\n",
    "events = pd.read_csv('https://code.s3.yandex.net/datasets/ab_test_events.zip',\n",
    "                     parse_dates=['event_dt'], low_memory=False)\n"
   ]
  },
  {
   "cell_type": "code",
   "execution_count": 13,
   "id": "360a2d80",
   "metadata": {},
   "outputs": [
    {
     "name": "stdout",
     "output_type": "stream",
     "text": [
      "<class 'pandas.core.frame.DataFrame'>\n",
      "RangeIndex: 14525 entries, 0 to 14524\n",
      "Data columns (total 4 columns):\n",
      " #   Column   Non-Null Count  Dtype \n",
      "---  ------   --------------  ----- \n",
      " 0   user_id  14525 non-null  object\n",
      " 1   group    14525 non-null  object\n",
      " 2   ab_test  14525 non-null  object\n",
      " 3   device   14525 non-null  object\n",
      "dtypes: object(4)\n",
      "memory usage: 454.0+ KB\n"
     ]
    }
   ],
   "source": [
    "# Выводим информацию о таблице participants\n",
    "participants.info()"
   ]
  },
  {
   "cell_type": "code",
   "execution_count": 14,
   "id": "ba7e6e51",
   "metadata": {},
   "outputs": [
    {
     "data": {
      "text/html": [
       "<div>\n",
       "<style scoped>\n",
       "    .dataframe tbody tr th:only-of-type {\n",
       "        vertical-align: middle;\n",
       "    }\n",
       "\n",
       "    .dataframe tbody tr th {\n",
       "        vertical-align: top;\n",
       "    }\n",
       "\n",
       "    .dataframe thead th {\n",
       "        text-align: right;\n",
       "    }\n",
       "</style>\n",
       "<table border=\"1\" class=\"dataframe\">\n",
       "  <thead>\n",
       "    <tr style=\"text-align: right;\">\n",
       "      <th></th>\n",
       "      <th>user_id</th>\n",
       "      <th>group</th>\n",
       "      <th>ab_test</th>\n",
       "      <th>device</th>\n",
       "    </tr>\n",
       "  </thead>\n",
       "  <tbody>\n",
       "    <tr>\n",
       "      <th>0</th>\n",
       "      <td>0002CE61FF2C4011</td>\n",
       "      <td>B</td>\n",
       "      <td>interface_eu_test</td>\n",
       "      <td>Mac</td>\n",
       "    </tr>\n",
       "    <tr>\n",
       "      <th>1</th>\n",
       "      <td>001064FEAAB631A1</td>\n",
       "      <td>B</td>\n",
       "      <td>recommender_system_test</td>\n",
       "      <td>Android</td>\n",
       "    </tr>\n",
       "    <tr>\n",
       "      <th>2</th>\n",
       "      <td>001064FEAAB631A1</td>\n",
       "      <td>A</td>\n",
       "      <td>interface_eu_test</td>\n",
       "      <td>Android</td>\n",
       "    </tr>\n",
       "    <tr>\n",
       "      <th>3</th>\n",
       "      <td>0010A1C096941592</td>\n",
       "      <td>A</td>\n",
       "      <td>recommender_system_test</td>\n",
       "      <td>Android</td>\n",
       "    </tr>\n",
       "    <tr>\n",
       "      <th>4</th>\n",
       "      <td>001E72F50D1C48FA</td>\n",
       "      <td>A</td>\n",
       "      <td>interface_eu_test</td>\n",
       "      <td>Mac</td>\n",
       "    </tr>\n",
       "  </tbody>\n",
       "</table>\n",
       "</div>"
      ],
      "text/plain": [
       "            user_id group                  ab_test   device\n",
       "0  0002CE61FF2C4011     B        interface_eu_test      Mac\n",
       "1  001064FEAAB631A1     B  recommender_system_test  Android\n",
       "2  001064FEAAB631A1     A        interface_eu_test  Android\n",
       "3  0010A1C096941592     A  recommender_system_test  Android\n",
       "4  001E72F50D1C48FA     A        interface_eu_test      Mac"
      ]
     },
     "execution_count": 14,
     "metadata": {},
     "output_type": "execute_result"
    }
   ],
   "source": [
    "# Выводим первые строки таблицы с участниками\n",
    "participants.head()"
   ]
  },
  {
   "cell_type": "code",
   "execution_count": 15,
   "id": "d783b650",
   "metadata": {},
   "outputs": [
    {
     "data": {
      "text/html": [
       "<div>\n",
       "<style scoped>\n",
       "    .dataframe tbody tr th:only-of-type {\n",
       "        vertical-align: middle;\n",
       "    }\n",
       "\n",
       "    .dataframe tbody tr th {\n",
       "        vertical-align: top;\n",
       "    }\n",
       "\n",
       "    .dataframe thead th {\n",
       "        text-align: right;\n",
       "    }\n",
       "</style>\n",
       "<table border=\"1\" class=\"dataframe\">\n",
       "  <thead>\n",
       "    <tr style=\"text-align: right;\">\n",
       "      <th></th>\n",
       "      <th>user_id</th>\n",
       "      <th>event_dt</th>\n",
       "      <th>event_name</th>\n",
       "      <th>details</th>\n",
       "    </tr>\n",
       "  </thead>\n",
       "  <tbody>\n",
       "    <tr>\n",
       "      <th>0</th>\n",
       "      <td>GLOBAL</td>\n",
       "      <td>2020-12-01 00:00:00</td>\n",
       "      <td>End of Black Friday Ads Campaign</td>\n",
       "      <td>ZONE_CODE15</td>\n",
       "    </tr>\n",
       "    <tr>\n",
       "      <th>1</th>\n",
       "      <td>CCBE9E7E99F94A08</td>\n",
       "      <td>2020-12-01 00:00:11</td>\n",
       "      <td>registration</td>\n",
       "      <td>0.0</td>\n",
       "    </tr>\n",
       "    <tr>\n",
       "      <th>2</th>\n",
       "      <td>GLOBAL</td>\n",
       "      <td>2020-12-01 00:00:25</td>\n",
       "      <td>product_page</td>\n",
       "      <td>NaN</td>\n",
       "    </tr>\n",
       "    <tr>\n",
       "      <th>3</th>\n",
       "      <td>CCBE9E7E99F94A08</td>\n",
       "      <td>2020-12-01 00:00:33</td>\n",
       "      <td>login</td>\n",
       "      <td>NaN</td>\n",
       "    </tr>\n",
       "    <tr>\n",
       "      <th>4</th>\n",
       "      <td>CCBE9E7E99F94A08</td>\n",
       "      <td>2020-12-01 00:00:52</td>\n",
       "      <td>product_page</td>\n",
       "      <td>NaN</td>\n",
       "    </tr>\n",
       "  </tbody>\n",
       "</table>\n",
       "</div>"
      ],
      "text/plain": [
       "            user_id            event_dt                        event_name  \\\n",
       "0            GLOBAL 2020-12-01 00:00:00  End of Black Friday Ads Campaign   \n",
       "1  CCBE9E7E99F94A08 2020-12-01 00:00:11                      registration   \n",
       "2            GLOBAL 2020-12-01 00:00:25                      product_page   \n",
       "3  CCBE9E7E99F94A08 2020-12-01 00:00:33                             login   \n",
       "4  CCBE9E7E99F94A08 2020-12-01 00:00:52                      product_page   \n",
       "\n",
       "       details  \n",
       "0  ZONE_CODE15  \n",
       "1          0.0  \n",
       "2          NaN  \n",
       "3          NaN  \n",
       "4          NaN  "
      ]
     },
     "execution_count": 15,
     "metadata": {},
     "output_type": "execute_result"
    }
   ],
   "source": [
    "# Выводим первые строки таблицы с событиями\n",
    "events.head()"
   ]
  },
  {
   "cell_type": "code",
   "execution_count": 16,
   "id": "0cd5d654",
   "metadata": {},
   "outputs": [
    {
     "name": "stdout",
     "output_type": "stream",
     "text": [
      "<class 'pandas.core.frame.DataFrame'>\n",
      "RangeIndex: 787286 entries, 0 to 787285\n",
      "Data columns (total 4 columns):\n",
      " #   Column      Non-Null Count   Dtype         \n",
      "---  ------      --------------   -----         \n",
      " 0   user_id     787286 non-null  object        \n",
      " 1   event_dt    787286 non-null  datetime64[ns]\n",
      " 2   event_name  787286 non-null  object        \n",
      " 3   details     249022 non-null  object        \n",
      "dtypes: datetime64[ns](1), object(3)\n",
      "memory usage: 24.0+ MB\n"
     ]
    }
   ],
   "source": [
    "# Выводим информацию о таблице events\n",
    "events.info()"
   ]
  },
  {
   "cell_type": "code",
   "execution_count": 17,
   "id": "620b8daf",
   "metadata": {},
   "outputs": [
    {
     "name": "stdout",
     "output_type": "stream",
     "text": [
      "Количество уникальных пользователей: 13638\n"
     ]
    }
   ],
   "source": [
    "# Количество уникальных пользователей в participants\n",
    "unique_users = participants['user_id'].nunique()\n",
    "print(f\"Количество уникальных пользователей: {unique_users}\")"
   ]
  },
  {
   "cell_type": "code",
   "execution_count": 18,
   "id": "21c700b7",
   "metadata": {},
   "outputs": [
    {
     "name": "stdout",
     "output_type": "stream",
     "text": [
      "Количество дубликатов: 887\n"
     ]
    }
   ],
   "source": [
    "# Поиск дубликатов по user_id\n",
    "duplicates = participants[participants.duplicated(subset='user_id')]\n",
    "print(f\"Количество дубликатов: {len(duplicates)}\")"
   ]
  },
  {
   "cell_type": "code",
   "execution_count": 19,
   "id": "9af3a280",
   "metadata": {
    "scrolled": true
   },
   "outputs": [
    {
     "name": "stdout",
     "output_type": "stream",
     "text": [
      "<class 'pandas.core.frame.DataFrame'>\n",
      "Int64Index: 13638 entries, 0 to 14524\n",
      "Data columns (total 4 columns):\n",
      " #   Column   Non-Null Count  Dtype \n",
      "---  ------   --------------  ----- \n",
      " 0   user_id  13638 non-null  object\n",
      " 1   group    13638 non-null  object\n",
      " 2   ab_test  13638 non-null  object\n",
      " 3   device   13638 non-null  object\n",
      "dtypes: object(4)\n",
      "memory usage: 532.7+ KB\n"
     ]
    }
   ],
   "source": [
    "# Удаление дубликатов\n",
    "participants = participants.drop_duplicates(subset='user_id')\n",
    "\n",
    "# Проверим размерность таблицы после удаления дубликатов\n",
    "participants.info()"
   ]
  },
  {
   "cell_type": "markdown",
   "id": "2a093087",
   "metadata": {},
   "source": [
    "В данных об участниках содержалось 14 525 записей, но только 13 638 уникальных пользователей — обнаружено и удалено 887 дубликатов. В таблице событий пропуски присутствуют только в столбце `details`, что обусловлено тем, что дополнительная информация указывается не для всех типов событий. Данные готовы для дальнейшего анализа."
   ]
  },
  {
   "cell_type": "markdown",
   "id": "CnzA-efasUrk",
   "metadata": {
    "id": "CnzA-efasUrk"
   },
   "source": [
    "## Анализ активности пользователей в тесте"
   ]
  },
  {
   "cell_type": "code",
   "execution_count": 20,
   "id": "9d0c4d05",
   "metadata": {},
   "outputs": [
    {
     "data": {
      "text/html": [
       "<div>\n",
       "<style scoped>\n",
       "    .dataframe tbody tr th:only-of-type {\n",
       "        vertical-align: middle;\n",
       "    }\n",
       "\n",
       "    .dataframe tbody tr th {\n",
       "        vertical-align: top;\n",
       "    }\n",
       "\n",
       "    .dataframe thead th {\n",
       "        text-align: right;\n",
       "    }\n",
       "</style>\n",
       "<table border=\"1\" class=\"dataframe\">\n",
       "  <thead>\n",
       "    <tr style=\"text-align: right;\">\n",
       "      <th></th>\n",
       "      <th>test_name</th>\n",
       "      <th>group</th>\n",
       "      <th>unique_users</th>\n",
       "    </tr>\n",
       "  </thead>\n",
       "  <tbody>\n",
       "    <tr>\n",
       "      <th>0</th>\n",
       "      <td>interface_eu_test</td>\n",
       "      <td>A</td>\n",
       "      <td>5174</td>\n",
       "    </tr>\n",
       "    <tr>\n",
       "      <th>1</th>\n",
       "      <td>interface_eu_test</td>\n",
       "      <td>B</td>\n",
       "      <td>5229</td>\n",
       "    </tr>\n",
       "    <tr>\n",
       "      <th>2</th>\n",
       "      <td>recommender_system_test</td>\n",
       "      <td>A</td>\n",
       "      <td>2421</td>\n",
       "    </tr>\n",
       "    <tr>\n",
       "      <th>3</th>\n",
       "      <td>recommender_system_test</td>\n",
       "      <td>B</td>\n",
       "      <td>814</td>\n",
       "    </tr>\n",
       "  </tbody>\n",
       "</table>\n",
       "</div>"
      ],
      "text/plain": [
       "                 test_name group  unique_users\n",
       "0        interface_eu_test     A          5174\n",
       "1        interface_eu_test     B          5229\n",
       "2  recommender_system_test     A          2421\n",
       "3  recommender_system_test     B           814"
      ]
     },
     "metadata": {},
     "output_type": "display_data"
    }
   ],
   "source": [
    "# Посмотрим распределение пользователей по тестам и группам\n",
    "group_counts = participants.groupby(['ab_test', 'group'])['user_id'].nunique().reset_index()\n",
    "group_counts.columns = ['test_name', 'group', 'unique_users']\n",
    "display(group_counts)"
   ]
  },
  {
   "cell_type": "code",
   "execution_count": 21,
   "id": "aNa3zHrKslEN",
   "metadata": {
    "id": "aNa3zHrKslEN"
   },
   "outputs": [
    {
     "name": "stdout",
     "output_type": "stream",
     "text": [
      "Пользователей, участвующих в нескольких тестах: 0\n"
     ]
    }
   ],
   "source": [
    "# Проверим пользователей, попавших сразу в несколько тестов\n",
    "multi_test_users = participants.groupby('user_id')['ab_test'].nunique()\n",
    "cross_test_count = (multi_test_users > 1).sum()\n",
    "print(f'Пользователей, участвующих в нескольких тестах: {cross_test_count}')\n"
   ]
  },
  {
   "cell_type": "code",
   "execution_count": 22,
   "id": "6a4dc995",
   "metadata": {},
   "outputs": [
    {
     "name": "stdout",
     "output_type": "stream",
     "text": [
      "Пользователей, попавших в обе группы одного теста: 0\n"
     ]
    }
   ],
   "source": [
    "# Проверим, есть ли пользователи в двух группах одного теста\n",
    "multi_group_users = participants.groupby(['user_id', 'ab_test'])['group'].nunique()\n",
    "cross_group_count = (multi_group_users > 1).sum()\n",
    "print(f'Пользователей, попавших в обе группы одного теста: {cross_group_count}')"
   ]
  },
  {
   "cell_type": "code",
   "execution_count": 23,
   "id": "c41295a9",
   "metadata": {},
   "outputs": [
    {
     "data": {
      "text/plain": [
       "group\n",
       "A    7595\n",
       "B    6043\n",
       "Name: user_id, dtype: int64"
      ]
     },
     "metadata": {},
     "output_type": "display_data"
    }
   ],
   "source": [
    "# Общая оценка количества пользователей в группах A и B (по всем тестам вместе)\n",
    "overall_group_counts = participants.groupby('group')['user_id'].nunique()\n",
    "display(overall_group_counts)"
   ]
  },
  {
   "cell_type": "markdown",
   "id": "d3f5f52b",
   "metadata": {},
   "source": [
    "**Вывод о корректности теста:**\n",
    "\n",
    "Проверка показала, что пользователи не пересекаются между тестами и не попадают в обе группы одного теста, что подтверждает техническую корректность сплитования. Для дальнейшего анализа были выбраны группы А и В теста interface_eu_test, поскольку они имеют сбалансированное количество участников (5174 и 5229). Данные по тесту recommender_system_test были исключены из-за сильного дисбаланса групп."
   ]
  },
  {
   "cell_type": "code",
   "execution_count": 24,
   "id": "QMt0Ybo_swDK",
   "metadata": {
    "id": "QMt0Ybo_swDK"
   },
   "outputs": [
    {
     "name": "stdout",
     "output_type": "stream",
     "text": [
      "Всего пользователей в тесте: 10403\n",
      "Всего событий пользователей теста: 76658\n"
     ]
    }
   ],
   "source": [
    "# Пользователи, участвующие в тесте interface_eu_test\n",
    "test_users = participants[participants['ab_test'] == 'interface_eu_test']['user_id']\n",
    "\n",
    "# Все события этих пользователей\n",
    "test_events = events[events['user_id'].isin(test_users)]\n",
    "\n",
    "test_users = participants[participants['ab_test'] == 'interface_eu_test']['user_id'].unique()\n",
    "print(f\"Всего пользователей в тесте: {len(test_users)}\")\n",
    "\n",
    "test_events = events[events['user_id'].isin(test_users)]\n",
    "print(f\"Всего событий пользователей теста: {len(test_events)}\")"
   ]
  },
  {
   "cell_type": "code",
   "execution_count": 25,
   "id": "sES4-dKts0Yb",
   "metadata": {
    "id": "sES4-dKts0Yb"
   },
   "outputs": [
    {
     "name": "stdout",
     "output_type": "stream",
     "text": [
      "Пользователей с событиями в первые 7 дней: 10403\n"
     ]
    }
   ],
   "source": [
    "# Получаем дату регистрации каждого пользователя\n",
    "registrations = test_events[test_events['event_name'] == 'registration']\n",
    "reg_dates = registrations.groupby('user_id')['event_dt'].min().reset_index()\n",
    "reg_dates.columns = ['user_id', 'registration_date']\n",
    "\n",
    "# Объединяем с событиями\n",
    "events_with_reg = test_events.merge(reg_dates, on='user_id', how='left')\n",
    "\n",
    "# Считаем дни с момента регистрации\n",
    "events_with_reg['days_since_reg'] = (events_with_reg['event_dt'] - events_with_reg['registration_date']).dt.days\n",
    "\n",
    "# Оставляем события, совершённые в первые 7 дней\n",
    "events_7d = events_with_reg[events_with_reg['days_since_reg'] < 7]\n",
    "\n",
    "users_7d = events_7d['user_id'].nunique()\n",
    "print(f\"Пользователей с событиями в первые 7 дней: {users_7d}\")"
   ]
  },
  {
   "cell_type": "code",
   "execution_count": 26,
   "id": "7d97b466",
   "metadata": {},
   "outputs": [
    {
     "name": "stdout",
     "output_type": "stream",
     "text": [
      "Необходимое количество пользователей в каждой группе: 1569\n"
     ]
    }
   ],
   "source": [
    "from statsmodels.stats.power import NormalIndPower\n",
    "\n",
    "# Заданные параметры\n",
    "baseline_conversion = 0.30  # базовый показатель конверсии\n",
    "effect_size_absolute = 0.03  # минимальное ожидаемое изменение (3%)\n",
    "alpha = 0.05  # уровень значимости 5% (достоверность 95%)\n",
    "power = 0.8  # мощность теста\n",
    "\n",
    "# Относительный размер эффекта\n",
    "effect_size_relative = effect_size_absolute / baseline_conversion\n",
    "\n",
    "# Расчёт необходимого размера выборки для каждой группы\n",
    "analysis = NormalIndPower()\n",
    "required_sample_size = analysis.solve_power(\n",
    "    effect_size=effect_size_relative,\n",
    "    alpha=alpha,\n",
    "    power=power,\n",
    "    alternative='two-sided'\n",
    ")\n",
    "\n",
    "print(f\"Необходимое количество пользователей в каждой группе: {int(required_sample_size)}\")"
   ]
  },
  {
   "cell_type": "code",
   "execution_count": 27,
   "id": "7ph853Xks4sy",
   "metadata": {
    "id": "7ph853Xks4sy"
   },
   "outputs": [
    {
     "name": "stdout",
     "output_type": "stream",
     "text": [
      "       users  buyers     cr\n",
      "group                      \n",
      "A       5174    1427  0.276\n",
      "B       5229    1532  0.293\n"
     ]
    }
   ],
   "source": [
    "# Объединяем данные\n",
    "events_7d = events_7d.merge(participants, on='user_id', how='left')\n",
    "\n",
    "# Уникальные пользователи по группам\n",
    "users_by_group = events_7d.groupby('group')['user_id'].nunique()\n",
    "\n",
    "# Покупатели по группам\n",
    "buyers_by_group = events_7d[events_7d['event_name'] == 'purchase'].groupby('group')['user_id'].nunique()\n",
    "\n",
    "# Создаём таблицу с конверсией\n",
    "conversion = pd.DataFrame({\n",
    "    'users': users_by_group,\n",
    "    'buyers': buyers_by_group\n",
    "}).fillna(0).astype(int)\n",
    "\n",
    "conversion['cr'] = (conversion['buyers'] / conversion['users']).round(3)\n",
    "\n",
    "print(conversion)"
   ]
  },
  {
   "cell_type": "code",
   "execution_count": 28,
   "id": "hHTHPkJYs8mE",
   "metadata": {
    "id": "hHTHPkJYs8mE"
   },
   "outputs": [
    {
     "name": "stdout",
     "output_type": "stream",
     "text": [
      "Прирост конверсии в тестовой группе: 0.017\n"
     ]
    }
   ],
   "source": [
    "# Разность конверсий\n",
    "lift = conversion.loc['B', 'cr'] - conversion.loc['A', 'cr']\n",
    "print(f\"Прирост конверсии в тестовой группе: {lift:.3f}\")"
   ]
  },
  {
   "cell_type": "markdown",
   "id": "f559e71e",
   "metadata": {},
   "source": [
    "В группе B уровень конверсии составил 29.3%, что выше, чем в группе A — 27.6%. Разница между ними составляет 1.7%. Количество пользователей в обеих группах примерно одинаково (около 5200 человек), что обеспечивает сопоставимость результатов.\n",
    "\n",
    "По предварительным наблюдениям, тестовая группа проявила более высокую активность в части совершения покупок. Это может указывать на то, что новый интерфейс положительно повлиял на поведение пользователей. Однако поскольку прирост конверсии не достигает заранее установленного минимального эффекта в 3%, необходимо дополнительно проверить статистическую значимость разницы, прежде чем делать окончательные выводы."
   ]
  },
  {
   "cell_type": "code",
   "execution_count": 29,
   "id": "55fc4367",
   "metadata": {},
   "outputs": [
    {
     "name": "stdout",
     "output_type": "stream",
     "text": [
      "Z-статистика: 1.942\n",
      "P-значение: 0.0261\n",
      "Отвергаем нулевую гипотезу. Количество пользователей, совершающих покупку, статистически значимо увеличивается после внедрения новой версии сайта.\n"
     ]
    }
   ],
   "source": [
    "# Данные по группам\n",
    "n_A = 5174  # Размер выборки A\n",
    "n_B = 5229  # Размер выборки B\n",
    "\n",
    "x_A = 1427  # Кол-во успешных событий в группе A\n",
    "x_B = 1532  # Кол-во успешных событий в группе B\n",
    "\n",
    "# Ставим группу B первой, так как хотим проверить улучшение метрики\n",
    "count = np.array([x_B, x_A])\n",
    "nobs = np.array([n_B, n_A])\n",
    "\n",
    "# Односторонний z-тест: проверка на прирост\n",
    "z_stat, p_value = proportions_ztest(count=count, nobs=nobs, alternative='larger')\n",
    "\n",
    "print(f\"Z-статистика: {z_stat:.3f}\")\n",
    "print(f\"P-значение: {p_value:.4f}\")\n",
    "\n",
    "alpha = 0.05\n",
    "\n",
    "if p_value < alpha:\n",
    "    print(\"Отвергаем нулевую гипотезу. Количество пользователей, совершающих покупку, статистически значимо увеличивается после внедрения новой версии сайта.\")\n",
    "else:\n",
    "    print(\"Нет оснований отвергнуть нулевую гипотезу. Влияние новой версии сайта на поведение пользователей статистически не подтверждено.\")"
   ]
  }
 ],
 "metadata": {
  "ExecuteTimeLog": [
   {
    "duration": 459,
    "start_time": "2025-05-15T17:51:33.566Z"
   },
   {
    "duration": 890,
    "start_time": "2025-05-15T17:51:47.235Z"
   },
   {
    "duration": 3,
    "start_time": "2025-05-15T18:03:47.648Z"
   },
   {
    "duration": 45,
    "start_time": "2025-05-15T18:08:52.205Z"
   },
   {
    "duration": 71,
    "start_time": "2025-05-15T18:09:23.243Z"
   },
   {
    "duration": 36,
    "start_time": "2025-05-15T18:12:44.747Z"
   },
   {
    "duration": 31,
    "start_time": "2025-05-15T18:12:48.254Z"
   },
   {
    "duration": 12,
    "start_time": "2025-05-15T18:13:21.065Z"
   },
   {
    "duration": 28,
    "start_time": "2025-05-15T18:13:22.874Z"
   },
   {
    "duration": 5,
    "start_time": "2025-05-15T18:26:15.336Z"
   },
   {
    "duration": 4,
    "start_time": "2025-05-15T18:26:37.162Z"
   },
   {
    "duration": 7,
    "start_time": "2025-05-15T18:29:49.673Z"
   },
   {
    "duration": 6,
    "start_time": "2025-05-15T18:30:49.993Z"
   },
   {
    "duration": 6,
    "start_time": "2025-05-15T18:31:14.450Z"
   },
   {
    "duration": 56,
    "start_time": "2025-05-16T19:16:47.041Z"
   },
   {
    "duration": 1375,
    "start_time": "2025-05-16T19:16:55.821Z"
   },
   {
    "duration": 45,
    "start_time": "2025-05-16T19:16:57.198Z"
   },
   {
    "duration": 66,
    "start_time": "2025-05-16T19:16:57.245Z"
   },
   {
    "duration": 21,
    "start_time": "2025-05-16T19:16:57.314Z"
   },
   {
    "duration": 32,
    "start_time": "2025-05-16T19:16:57.337Z"
   },
   {
    "duration": 6,
    "start_time": "2025-05-16T19:16:57.373Z"
   },
   {
    "duration": 1546,
    "start_time": "2025-05-16T19:16:57.381Z"
   },
   {
    "duration": 5,
    "start_time": "2025-05-16T19:17:06.394Z"
   },
   {
    "duration": 3,
    "start_time": "2025-05-16T19:18:53.174Z"
   },
   {
    "duration": 11,
    "start_time": "2025-05-16T19:19:17.650Z"
   },
   {
    "duration": 10,
    "start_time": "2025-05-16T19:20:54.524Z"
   },
   {
    "duration": 55,
    "start_time": "2025-05-18T18:13:56.668Z"
   },
   {
    "duration": 1325,
    "start_time": "2025-05-18T18:14:03.212Z"
   },
   {
    "duration": 35,
    "start_time": "2025-05-18T18:14:04.539Z"
   },
   {
    "duration": 93,
    "start_time": "2025-05-18T18:14:04.575Z"
   },
   {
    "duration": 95,
    "start_time": "2025-05-18T18:14:04.670Z"
   },
   {
    "duration": 18,
    "start_time": "2025-05-18T18:14:04.768Z"
   },
   {
    "duration": 12,
    "start_time": "2025-05-18T18:14:04.788Z"
   },
   {
    "duration": 21,
    "start_time": "2025-05-18T18:14:04.801Z"
   },
   {
    "duration": 129,
    "start_time": "2025-05-18T18:14:04.824Z"
   },
   {
    "duration": 0,
    "start_time": "2025-05-18T18:14:04.954Z"
   },
   {
    "duration": 20,
    "start_time": "2025-05-18T18:14:15.945Z"
   },
   {
    "duration": 8,
    "start_time": "2025-05-18T18:15:32.328Z"
   },
   {
    "duration": 19,
    "start_time": "2025-05-18T18:45:45.285Z"
   },
   {
    "duration": 10,
    "start_time": "2025-05-18T18:54:55.344Z"
   },
   {
    "duration": 3,
    "start_time": "2025-05-18T18:57:28.241Z"
   },
   {
    "duration": 1206,
    "start_time": "2025-05-18T18:57:39.857Z"
   },
   {
    "duration": 36,
    "start_time": "2025-05-18T18:57:41.065Z"
   },
   {
    "duration": 11,
    "start_time": "2025-05-18T18:57:41.103Z"
   },
   {
    "duration": 81,
    "start_time": "2025-05-18T18:57:41.116Z"
   },
   {
    "duration": 35,
    "start_time": "2025-05-18T18:57:41.199Z"
   },
   {
    "duration": 41,
    "start_time": "2025-05-18T18:57:41.236Z"
   },
   {
    "duration": 49,
    "start_time": "2025-05-18T18:57:41.279Z"
   },
   {
    "duration": 17,
    "start_time": "2025-05-18T18:57:41.329Z"
   },
   {
    "duration": 99,
    "start_time": "2025-05-18T18:57:41.347Z"
   },
   {
    "duration": 0,
    "start_time": "2025-05-18T18:57:41.448Z"
   },
   {
    "duration": 3,
    "start_time": "2025-05-18T18:57:58.092Z"
   },
   {
    "duration": 30,
    "start_time": "2025-05-18T18:57:59.354Z"
   },
   {
    "duration": 11,
    "start_time": "2025-05-18T18:57:59.563Z"
   },
   {
    "duration": 4,
    "start_time": "2025-05-18T18:57:59.933Z"
   },
   {
    "duration": 6,
    "start_time": "2025-05-18T18:58:00.325Z"
   },
   {
    "duration": 5,
    "start_time": "2025-05-18T18:58:00.527Z"
   },
   {
    "duration": 12,
    "start_time": "2025-05-18T18:58:00.722Z"
   },
   {
    "duration": 18,
    "start_time": "2025-05-18T18:58:01.364Z"
   },
   {
    "duration": 5,
    "start_time": "2025-05-18T18:58:01.828Z"
   },
   {
    "duration": 13,
    "start_time": "2025-05-18T18:59:28.121Z"
   },
   {
    "duration": 58,
    "start_time": "2025-05-18T18:59:53.479Z"
   },
   {
    "duration": 4,
    "start_time": "2025-05-18T18:59:56.147Z"
   },
   {
    "duration": 41,
    "start_time": "2025-05-18T18:59:57.773Z"
   },
   {
    "duration": 12,
    "start_time": "2025-05-18T18:59:57.999Z"
   },
   {
    "duration": 6,
    "start_time": "2025-05-18T18:59:58.354Z"
   },
   {
    "duration": 6,
    "start_time": "2025-05-18T18:59:58.703Z"
   },
   {
    "duration": 5,
    "start_time": "2025-05-18T18:59:58.888Z"
   },
   {
    "duration": 12,
    "start_time": "2025-05-18T18:59:59.076Z"
   },
   {
    "duration": 16,
    "start_time": "2025-05-18T18:59:59.674Z"
   },
   {
    "duration": 423,
    "start_time": "2025-05-18T19:00:00.118Z"
   },
   {
    "duration": 6,
    "start_time": "2025-05-18T19:00:00.544Z"
   },
   {
    "duration": 425,
    "start_time": "2025-05-18T19:00:23.166Z"
   },
   {
    "duration": 388,
    "start_time": "2025-05-18T19:00:40.304Z"
   },
   {
    "duration": 495,
    "start_time": "2025-05-18T19:10:39.996Z"
   },
   {
    "duration": 394,
    "start_time": "2025-05-18T19:11:07.040Z"
   },
   {
    "duration": 6,
    "start_time": "2025-05-18T19:14:49.231Z"
   },
   {
    "duration": 15,
    "start_time": "2025-05-18T19:17:39.225Z"
   },
   {
    "duration": 67,
    "start_time": "2025-05-18T19:18:08.960Z"
   },
   {
    "duration": 6,
    "start_time": "2025-05-18T19:18:28.965Z"
   },
   {
    "duration": 390,
    "start_time": "2025-05-18T19:24:22.859Z"
   },
   {
    "duration": 400,
    "start_time": "2025-05-18T19:26:24.320Z"
   },
   {
    "duration": 445,
    "start_time": "2025-05-18T19:30:31.868Z"
   },
   {
    "duration": 403,
    "start_time": "2025-05-18T20:41:40.545Z"
   },
   {
    "duration": 580,
    "start_time": "2025-05-18T20:56:56.725Z"
   },
   {
    "duration": 453,
    "start_time": "2025-05-18T20:57:13.858Z"
   },
   {
    "duration": 469,
    "start_time": "2025-05-18T20:57:42.100Z"
   },
   {
    "duration": 37,
    "start_time": "2025-05-18T20:58:06.294Z"
   },
   {
    "duration": 458,
    "start_time": "2025-05-18T20:58:22.500Z"
   },
   {
    "duration": 492,
    "start_time": "2025-05-18T20:58:29.985Z"
   },
   {
    "duration": 572,
    "start_time": "2025-05-18T20:58:34.231Z"
   },
   {
    "duration": 36,
    "start_time": "2025-05-18T20:58:38.461Z"
   },
   {
    "duration": 47,
    "start_time": "2025-05-18T20:58:42.043Z"
   },
   {
    "duration": 442,
    "start_time": "2025-05-18T20:58:47.218Z"
   },
   {
    "duration": 32,
    "start_time": "2025-05-18T20:58:54.609Z"
   },
   {
    "duration": 472,
    "start_time": "2025-05-18T20:58:58.715Z"
   },
   {
    "duration": 472,
    "start_time": "2025-05-18T21:00:04.546Z"
   },
   {
    "duration": 552,
    "start_time": "2025-05-18T21:00:16.330Z"
   },
   {
    "duration": 448,
    "start_time": "2025-05-18T21:00:31.049Z"
   },
   {
    "duration": 442,
    "start_time": "2025-05-18T21:00:44.263Z"
   },
   {
    "duration": 447,
    "start_time": "2025-05-18T21:00:52.200Z"
   },
   {
    "duration": 453,
    "start_time": "2025-05-18T21:01:08.291Z"
   },
   {
    "duration": 587,
    "start_time": "2025-05-18T21:01:19.091Z"
   },
   {
    "duration": 462,
    "start_time": "2025-05-18T21:01:39.016Z"
   },
   {
    "duration": 470,
    "start_time": "2025-05-18T21:01:58.779Z"
   },
   {
    "duration": 17,
    "start_time": "2025-05-19T18:02:23.136Z"
   },
   {
    "duration": 1245,
    "start_time": "2025-05-19T18:02:32.372Z"
   },
   {
    "duration": 46,
    "start_time": "2025-05-19T18:02:33.619Z"
   },
   {
    "duration": 12,
    "start_time": "2025-05-19T18:02:33.666Z"
   },
   {
    "duration": 6,
    "start_time": "2025-05-19T18:02:33.680Z"
   },
   {
    "duration": 5,
    "start_time": "2025-05-19T18:02:33.688Z"
   },
   {
    "duration": 6,
    "start_time": "2025-05-19T18:02:33.695Z"
   },
   {
    "duration": 14,
    "start_time": "2025-05-19T18:02:33.702Z"
   },
   {
    "duration": 18,
    "start_time": "2025-05-19T18:02:33.717Z"
   },
   {
    "duration": 24,
    "start_time": "2025-05-19T18:02:33.737Z"
   },
   {
    "duration": 455,
    "start_time": "2025-05-19T18:02:33.763Z"
   },
   {
    "duration": 116,
    "start_time": "2025-05-19T18:02:34.220Z"
   },
   {
    "duration": 0,
    "start_time": "2025-05-19T18:02:34.339Z"
   },
   {
    "duration": 6,
    "start_time": "2025-05-19T18:35:07.253Z"
   },
   {
    "duration": 22,
    "start_time": "2025-05-19T18:54:31.355Z"
   },
   {
    "duration": 422,
    "start_time": "2025-05-19T18:54:37.258Z"
   },
   {
    "duration": 10,
    "start_time": "2025-05-19T19:05:13.790Z"
   },
   {
    "duration": 10,
    "start_time": "2025-05-19T19:05:41.842Z"
   },
   {
    "duration": 10,
    "start_time": "2025-05-19T19:05:49.091Z"
   },
   {
    "duration": 4,
    "start_time": "2025-05-19T19:06:23.364Z"
   },
   {
    "duration": 30,
    "start_time": "2025-05-19T19:06:26.070Z"
   },
   {
    "duration": 13,
    "start_time": "2025-05-19T19:06:26.269Z"
   },
   {
    "duration": 5,
    "start_time": "2025-05-19T19:06:26.696Z"
   },
   {
    "duration": 6,
    "start_time": "2025-05-19T19:06:27.084Z"
   },
   {
    "duration": 6,
    "start_time": "2025-05-19T19:06:27.278Z"
   },
   {
    "duration": 13,
    "start_time": "2025-05-19T19:06:27.466Z"
   },
   {
    "duration": 17,
    "start_time": "2025-05-19T19:06:28.058Z"
   },
   {
    "duration": 7,
    "start_time": "2025-05-19T19:06:28.486Z"
   },
   {
    "duration": 444,
    "start_time": "2025-05-19T19:06:28.978Z"
   },
   {
    "duration": 6,
    "start_time": "2025-05-19T19:06:29.892Z"
   },
   {
    "duration": 6,
    "start_time": "2025-05-19T19:50:26.049Z"
   },
   {
    "duration": 6,
    "start_time": "2025-05-19T19:52:45.563Z"
   },
   {
    "duration": 5,
    "start_time": "2025-05-19T19:52:48.854Z"
   },
   {
    "duration": 7,
    "start_time": "2025-05-19T19:52:54.697Z"
   },
   {
    "duration": 1223,
    "start_time": "2025-05-20T17:52:38.316Z"
   },
   {
    "duration": 35,
    "start_time": "2025-05-20T17:52:39.542Z"
   },
   {
    "duration": 129,
    "start_time": "2025-05-20T17:52:39.579Z"
   },
   {
    "duration": 22,
    "start_time": "2025-05-20T17:52:39.710Z"
   },
   {
    "duration": 5,
    "start_time": "2025-05-20T17:52:39.734Z"
   },
   {
    "duration": 6,
    "start_time": "2025-05-20T17:52:39.741Z"
   },
   {
    "duration": 10,
    "start_time": "2025-05-20T17:52:39.749Z"
   },
   {
    "duration": 16,
    "start_time": "2025-05-20T17:52:39.760Z"
   },
   {
    "duration": 5,
    "start_time": "2025-05-20T17:52:39.778Z"
   },
   {
    "duration": 438,
    "start_time": "2025-05-20T17:52:39.784Z"
   },
   {
    "duration": 5,
    "start_time": "2025-05-20T17:52:40.224Z"
   },
   {
    "duration": 1621,
    "start_time": "2025-05-20T17:52:40.230Z"
   },
   {
    "duration": 1473,
    "start_time": "2025-05-20T17:53:13.983Z"
   },
   {
    "duration": 1590,
    "start_time": "2025-05-20T19:22:16.270Z"
   },
   {
    "duration": 1558,
    "start_time": "2025-05-20T19:29:17.440Z"
   },
   {
    "duration": 9,
    "start_time": "2025-05-20T19:30:07.394Z"
   },
   {
    "duration": 12,
    "start_time": "2025-05-20T19:31:07.339Z"
   },
   {
    "duration": 14,
    "start_time": "2025-05-20T19:32:02.304Z"
   },
   {
    "duration": 12,
    "start_time": "2025-05-20T19:32:08.893Z"
   },
   {
    "duration": 13,
    "start_time": "2025-05-20T19:32:44.580Z"
   },
   {
    "duration": 13,
    "start_time": "2025-05-20T19:35:11.353Z"
   },
   {
    "duration": 9,
    "start_time": "2025-05-20T19:37:33.072Z"
   },
   {
    "duration": 116,
    "start_time": "2025-05-20T19:37:48.505Z"
   },
   {
    "duration": 9,
    "start_time": "2025-05-20T19:53:02.998Z"
   },
   {
    "duration": 9,
    "start_time": "2025-05-20T19:54:49.637Z"
   },
   {
    "duration": 17,
    "start_time": "2025-05-20T19:55:58.249Z"
   },
   {
    "duration": 17,
    "start_time": "2025-05-20T20:04:09.224Z"
   },
   {
    "duration": 1332,
    "start_time": "2025-05-20T20:05:25.812Z"
   },
   {
    "duration": 36,
    "start_time": "2025-05-20T20:05:27.146Z"
   },
   {
    "duration": 13,
    "start_time": "2025-05-20T20:05:27.184Z"
   },
   {
    "duration": 8,
    "start_time": "2025-05-20T20:05:27.199Z"
   },
   {
    "duration": 19,
    "start_time": "2025-05-20T20:05:27.210Z"
   },
   {
    "duration": 18,
    "start_time": "2025-05-20T20:05:27.231Z"
   },
   {
    "duration": 14,
    "start_time": "2025-05-20T20:05:27.251Z"
   },
   {
    "duration": 27,
    "start_time": "2025-05-20T20:05:27.267Z"
   },
   {
    "duration": 6,
    "start_time": "2025-05-20T20:05:27.296Z"
   },
   {
    "duration": 475,
    "start_time": "2025-05-20T20:05:27.304Z"
   },
   {
    "duration": 7,
    "start_time": "2025-05-20T20:05:27.781Z"
   },
   {
    "duration": 1508,
    "start_time": "2025-05-20T20:05:27.790Z"
   },
   {
    "duration": 14,
    "start_time": "2025-05-20T20:05:29.300Z"
   },
   {
    "duration": 7,
    "start_time": "2025-05-20T20:05:29.318Z"
   },
   {
    "duration": 17,
    "start_time": "2025-05-20T20:05:29.327Z"
   },
   {
    "duration": 142,
    "start_time": "2025-05-20T20:05:29.346Z"
   },
   {
    "duration": 8,
    "start_time": "2025-05-20T20:05:29.490Z"
   },
   {
    "duration": 15,
    "start_time": "2025-05-20T20:05:29.499Z"
   },
   {
    "duration": 16,
    "start_time": "2025-05-20T20:05:29.515Z"
   },
   {
    "duration": 15,
    "start_time": "2025-05-20T20:05:29.533Z"
   },
   {
    "duration": 14,
    "start_time": "2025-05-20T20:06:53.493Z"
   },
   {
    "duration": 17,
    "start_time": "2025-05-20T20:07:38.426Z"
   },
   {
    "duration": 11,
    "start_time": "2025-05-20T20:13:14.196Z"
   },
   {
    "duration": 116,
    "start_time": "2025-05-20T21:07:59.796Z"
   },
   {
    "duration": 46,
    "start_time": "2025-05-21T20:07:06.415Z"
   },
   {
    "duration": 1169,
    "start_time": "2025-05-21T20:07:16.599Z"
   },
   {
    "duration": 68,
    "start_time": "2025-05-21T20:07:17.770Z"
   },
   {
    "duration": 11,
    "start_time": "2025-05-21T20:07:17.840Z"
   },
   {
    "duration": 21,
    "start_time": "2025-05-21T20:07:17.852Z"
   },
   {
    "duration": 9,
    "start_time": "2025-05-21T20:07:17.875Z"
   },
   {
    "duration": 5,
    "start_time": "2025-05-21T20:07:17.886Z"
   },
   {
    "duration": 11,
    "start_time": "2025-05-21T20:07:17.892Z"
   },
   {
    "duration": 15,
    "start_time": "2025-05-21T20:07:17.905Z"
   },
   {
    "duration": 5,
    "start_time": "2025-05-21T20:07:17.938Z"
   },
   {
    "duration": 403,
    "start_time": "2025-05-21T20:07:17.945Z"
   },
   {
    "duration": 5,
    "start_time": "2025-05-21T20:07:18.350Z"
   },
   {
    "duration": 1500,
    "start_time": "2025-05-21T20:07:18.357Z"
   },
   {
    "duration": 11,
    "start_time": "2025-05-21T20:07:19.859Z"
   },
   {
    "duration": 13,
    "start_time": "2025-05-21T20:07:19.873Z"
   },
   {
    "duration": 9,
    "start_time": "2025-05-21T20:07:19.887Z"
   },
   {
    "duration": 119,
    "start_time": "2025-05-21T20:07:19.898Z"
   },
   {
    "duration": 7,
    "start_time": "2025-05-21T20:07:20.018Z"
   },
   {
    "duration": 26,
    "start_time": "2025-05-21T20:07:20.027Z"
   },
   {
    "duration": 34,
    "start_time": "2025-05-21T20:07:20.055Z"
   },
   {
    "duration": 14,
    "start_time": "2025-05-21T20:07:20.090Z"
   },
   {
    "duration": 13,
    "start_time": "2025-05-21T20:07:20.106Z"
   },
   {
    "duration": 21,
    "start_time": "2025-05-21T20:07:20.121Z"
   },
   {
    "duration": 39,
    "start_time": "2025-05-21T20:07:20.143Z"
   },
   {
    "duration": 92,
    "start_time": "2025-05-21T20:07:20.183Z"
   },
   {
    "duration": 72,
    "start_time": "2025-05-21T20:07:35.543Z"
   },
   {
    "duration": 75,
    "start_time": "2025-05-21T20:08:05.653Z"
   },
   {
    "duration": 97,
    "start_time": "2025-05-21T20:17:26.745Z"
   },
   {
    "duration": 81,
    "start_time": "2025-05-21T20:17:37.874Z"
   },
   {
    "duration": 58,
    "start_time": "2025-05-21T20:17:39.408Z"
   },
   {
    "duration": 10,
    "start_time": "2025-05-21T20:21:35.660Z"
   },
   {
    "duration": 71,
    "start_time": "2025-05-21T20:22:10.885Z"
   },
   {
    "duration": 46,
    "start_time": "2025-05-21T21:10:44.788Z"
   },
   {
    "duration": 51,
    "start_time": "2025-05-21T21:10:49.892Z"
   },
   {
    "duration": 55,
    "start_time": "2025-05-21T21:18:07.130Z"
   },
   {
    "duration": 53,
    "start_time": "2025-05-21T21:18:12.064Z"
   },
   {
    "duration": 55,
    "start_time": "2025-05-21T21:18:15.155Z"
   },
   {
    "duration": 10,
    "start_time": "2025-05-21T21:18:31.025Z"
   },
   {
    "duration": 63,
    "start_time": "2025-05-21T21:19:37.204Z"
   },
   {
    "duration": 9,
    "start_time": "2025-05-21T21:22:22.558Z"
   },
   {
    "duration": 5,
    "start_time": "2025-05-21T21:22:45.213Z"
   },
   {
    "duration": 27,
    "start_time": "2025-05-21T21:22:45.416Z"
   },
   {
    "duration": 10,
    "start_time": "2025-05-21T21:22:45.589Z"
   },
   {
    "duration": 5,
    "start_time": "2025-05-21T21:22:45.916Z"
   },
   {
    "duration": 6,
    "start_time": "2025-05-21T21:22:46.252Z"
   },
   {
    "duration": 5,
    "start_time": "2025-05-21T21:22:46.420Z"
   },
   {
    "duration": 10,
    "start_time": "2025-05-21T21:22:46.585Z"
   },
   {
    "duration": 19,
    "start_time": "2025-05-21T21:22:47.079Z"
   },
   {
    "duration": 5,
    "start_time": "2025-05-21T21:22:47.414Z"
   },
   {
    "duration": 402,
    "start_time": "2025-05-21T21:22:47.777Z"
   },
   {
    "duration": 6,
    "start_time": "2025-05-21T21:22:48.181Z"
   },
   {
    "duration": 1536,
    "start_time": "2025-05-21T21:22:50.124Z"
   },
   {
    "duration": 12,
    "start_time": "2025-05-21T21:22:51.662Z"
   },
   {
    "duration": 27,
    "start_time": "2025-05-21T21:22:51.675Z"
   },
   {
    "duration": 38,
    "start_time": "2025-05-21T21:22:51.704Z"
   },
   {
    "duration": 121,
    "start_time": "2025-05-21T21:22:51.744Z"
   },
   {
    "duration": 7,
    "start_time": "2025-05-21T21:22:51.932Z"
   },
   {
    "duration": 8,
    "start_time": "2025-05-21T21:22:52.145Z"
   },
   {
    "duration": 15,
    "start_time": "2025-05-21T21:22:52.373Z"
   },
   {
    "duration": 14,
    "start_time": "2025-05-21T21:22:53.222Z"
   },
   {
    "duration": 20,
    "start_time": "2025-05-21T21:22:53.546Z"
   },
   {
    "duration": 16,
    "start_time": "2025-05-21T21:22:53.797Z"
   },
   {
    "duration": 9,
    "start_time": "2025-05-21T21:22:54.053Z"
   },
   {
    "duration": 77,
    "start_time": "2025-05-21T21:22:54.968Z"
   },
   {
    "duration": 60,
    "start_time": "2025-05-21T21:22:55.783Z"
   },
   {
    "duration": 15,
    "start_time": "2025-05-21T21:22:56.899Z"
   },
   {
    "duration": 58,
    "start_time": "2025-05-21T21:23:03.954Z"
   },
   {
    "duration": 51,
    "start_time": "2025-05-22T18:44:23.446Z"
   },
   {
    "duration": 1463,
    "start_time": "2025-05-22T18:44:28.780Z"
   },
   {
    "duration": 37,
    "start_time": "2025-05-22T18:44:30.246Z"
   },
   {
    "duration": 16,
    "start_time": "2025-05-22T18:44:30.284Z"
   },
   {
    "duration": 62,
    "start_time": "2025-05-22T18:44:30.303Z"
   },
   {
    "duration": 35,
    "start_time": "2025-05-22T18:44:30.368Z"
   },
   {
    "duration": 7,
    "start_time": "2025-05-22T18:44:30.405Z"
   },
   {
    "duration": 23,
    "start_time": "2025-05-22T18:44:30.414Z"
   },
   {
    "duration": 36,
    "start_time": "2025-05-22T18:44:30.439Z"
   },
   {
    "duration": 9,
    "start_time": "2025-05-22T18:44:30.477Z"
   },
   {
    "duration": 500,
    "start_time": "2025-05-22T18:44:30.488Z"
   },
   {
    "duration": 6,
    "start_time": "2025-05-22T18:44:30.990Z"
   },
   {
    "duration": 1913,
    "start_time": "2025-05-22T18:44:30.998Z"
   },
   {
    "duration": 14,
    "start_time": "2025-05-22T18:44:32.913Z"
   },
   {
    "duration": 36,
    "start_time": "2025-05-22T18:44:32.931Z"
   },
   {
    "duration": 13,
    "start_time": "2025-05-22T18:44:32.969Z"
   },
   {
    "duration": 127,
    "start_time": "2025-05-22T18:44:32.984Z"
   },
   {
    "duration": 8,
    "start_time": "2025-05-22T18:44:33.113Z"
   },
   {
    "duration": 36,
    "start_time": "2025-05-22T18:44:33.123Z"
   },
   {
    "duration": 20,
    "start_time": "2025-05-22T18:44:33.160Z"
   },
   {
    "duration": 15,
    "start_time": "2025-05-22T18:44:33.182Z"
   },
   {
    "duration": 15,
    "start_time": "2025-05-22T18:44:33.199Z"
   },
   {
    "duration": 17,
    "start_time": "2025-05-22T18:44:33.215Z"
   },
   {
    "duration": 17,
    "start_time": "2025-05-22T18:44:33.234Z"
   },
   {
    "duration": 111,
    "start_time": "2025-05-22T18:44:33.252Z"
   },
   {
    "duration": 69,
    "start_time": "2025-05-22T18:44:33.364Z"
   },
   {
    "duration": 17,
    "start_time": "2025-05-22T18:44:33.434Z"
   },
   {
    "duration": 92,
    "start_time": "2025-05-22T18:44:33.452Z"
   },
   {
    "duration": 101,
    "start_time": "2025-05-22T19:11:24.232Z"
   },
   {
    "duration": 75,
    "start_time": "2025-05-22T19:11:36.658Z"
   },
   {
    "duration": 16,
    "start_time": "2025-05-22T19:11:50.825Z"
   },
   {
    "duration": 69,
    "start_time": "2025-05-22T19:15:28.399Z"
   },
   {
    "duration": 154,
    "start_time": "2025-05-22T19:15:31.332Z"
   },
   {
    "duration": 90,
    "start_time": "2025-05-22T19:15:33.435Z"
   },
   {
    "duration": 19,
    "start_time": "2025-05-22T19:16:57.898Z"
   },
   {
    "duration": 72,
    "start_time": "2025-05-22T19:16:58.724Z"
   },
   {
    "duration": 81,
    "start_time": "2025-05-22T19:17:05.580Z"
   },
   {
    "duration": 63,
    "start_time": "2025-05-22T19:17:06.380Z"
   },
   {
    "duration": 20,
    "start_time": "2025-05-22T19:17:07.161Z"
   },
   {
    "duration": 59,
    "start_time": "2025-05-22T19:17:08.104Z"
   },
   {
    "duration": 4,
    "start_time": "2025-05-22T19:18:21.726Z"
   },
   {
    "duration": 1233,
    "start_time": "2025-05-22T19:24:44.290Z"
   },
   {
    "duration": 35,
    "start_time": "2025-05-22T19:24:45.525Z"
   },
   {
    "duration": 17,
    "start_time": "2025-05-22T19:24:45.562Z"
   },
   {
    "duration": 11,
    "start_time": "2025-05-22T19:24:45.581Z"
   },
   {
    "duration": 6,
    "start_time": "2025-05-22T19:24:45.594Z"
   },
   {
    "duration": 7,
    "start_time": "2025-05-22T19:24:45.601Z"
   },
   {
    "duration": 17,
    "start_time": "2025-05-22T19:24:45.610Z"
   },
   {
    "duration": 41,
    "start_time": "2025-05-22T19:24:45.629Z"
   },
   {
    "duration": 79,
    "start_time": "2025-05-22T19:24:45.671Z"
   },
   {
    "duration": 610,
    "start_time": "2025-05-22T19:24:45.752Z"
   },
   {
    "duration": 6,
    "start_time": "2025-05-22T19:24:46.364Z"
   },
   {
    "duration": 1586,
    "start_time": "2025-05-22T19:24:46.377Z"
   },
   {
    "duration": 18,
    "start_time": "2025-05-22T19:24:47.965Z"
   },
   {
    "duration": 17,
    "start_time": "2025-05-22T19:24:47.985Z"
   },
   {
    "duration": 27,
    "start_time": "2025-05-22T19:24:48.004Z"
   },
   {
    "duration": 126,
    "start_time": "2025-05-22T19:24:48.033Z"
   },
   {
    "duration": 8,
    "start_time": "2025-05-22T19:24:48.161Z"
   },
   {
    "duration": 67,
    "start_time": "2025-05-22T19:24:48.170Z"
   },
   {
    "duration": 31,
    "start_time": "2025-05-22T19:24:48.239Z"
   },
   {
    "duration": 20,
    "start_time": "2025-05-22T19:24:48.272Z"
   },
   {
    "duration": 14,
    "start_time": "2025-05-22T19:24:48.295Z"
   },
   {
    "duration": 21,
    "start_time": "2025-05-22T19:24:48.311Z"
   },
   {
    "duration": 10,
    "start_time": "2025-05-22T19:24:48.334Z"
   },
   {
    "duration": 104,
    "start_time": "2025-05-22T19:24:48.346Z"
   },
   {
    "duration": 72,
    "start_time": "2025-05-22T19:24:48.452Z"
   },
   {
    "duration": 18,
    "start_time": "2025-05-22T19:24:48.526Z"
   },
   {
    "duration": 92,
    "start_time": "2025-05-22T19:24:48.546Z"
   },
   {
    "duration": 3,
    "start_time": "2025-05-22T19:24:48.642Z"
   },
   {
    "duration": 81,
    "start_time": "2025-05-22T19:54:26.582Z"
   },
   {
    "duration": 155,
    "start_time": "2025-05-22T19:55:13.303Z"
   },
   {
    "duration": 63,
    "start_time": "2025-05-22T19:58:41.886Z"
   },
   {
    "duration": 34,
    "start_time": "2025-05-22T20:04:43.215Z"
   },
   {
    "duration": 15,
    "start_time": "2025-05-22T20:05:13.968Z"
   },
   {
    "duration": 10,
    "start_time": "2025-05-22T20:05:17.493Z"
   },
   {
    "duration": 18,
    "start_time": "2025-05-22T20:05:31.356Z"
   },
   {
    "duration": 26,
    "start_time": "2025-05-22T20:05:34.937Z"
   },
   {
    "duration": 11,
    "start_time": "2025-05-22T20:05:53.260Z"
   },
   {
    "duration": 42,
    "start_time": "2025-05-22T20:06:10.059Z"
   },
   {
    "duration": 39,
    "start_time": "2025-05-22T20:07:55.581Z"
   },
   {
    "duration": 8,
    "start_time": "2025-05-22T20:08:18.304Z"
   },
   {
    "duration": 8,
    "start_time": "2025-05-22T20:08:51.358Z"
   },
   {
    "duration": 18,
    "start_time": "2025-05-22T20:09:12.261Z"
   },
   {
    "duration": 141,
    "start_time": "2025-05-22T20:09:18.170Z"
   },
   {
    "duration": 14,
    "start_time": "2025-05-22T20:09:21.432Z"
   },
   {
    "duration": 84,
    "start_time": "2025-05-22T20:09:22.725Z"
   },
   {
    "duration": 8,
    "start_time": "2025-05-22T20:09:29.459Z"
   },
   {
    "duration": 1227,
    "start_time": "2025-05-22T20:10:01.401Z"
   },
   {
    "duration": 46,
    "start_time": "2025-05-22T20:10:02.630Z"
   },
   {
    "duration": 13,
    "start_time": "2025-05-22T20:10:02.677Z"
   },
   {
    "duration": 78,
    "start_time": "2025-05-22T20:10:02.691Z"
   },
   {
    "duration": 12,
    "start_time": "2025-05-22T20:10:02.771Z"
   },
   {
    "duration": 15,
    "start_time": "2025-05-22T20:10:02.784Z"
   },
   {
    "duration": 12,
    "start_time": "2025-05-22T20:10:02.800Z"
   },
   {
    "duration": 73,
    "start_time": "2025-05-22T20:10:02.814Z"
   },
   {
    "duration": 11,
    "start_time": "2025-05-22T20:10:02.889Z"
   },
   {
    "duration": 569,
    "start_time": "2025-05-22T20:10:02.901Z"
   },
   {
    "duration": 7,
    "start_time": "2025-05-22T20:10:03.472Z"
   },
   {
    "duration": 1696,
    "start_time": "2025-05-22T20:10:03.480Z"
   },
   {
    "duration": 13,
    "start_time": "2025-05-22T20:10:05.178Z"
   },
   {
    "duration": 46,
    "start_time": "2025-05-22T20:10:05.195Z"
   },
   {
    "duration": 46,
    "start_time": "2025-05-22T20:10:05.243Z"
   },
   {
    "duration": 183,
    "start_time": "2025-05-22T20:10:05.291Z"
   },
   {
    "duration": 8,
    "start_time": "2025-05-22T20:10:05.476Z"
   },
   {
    "duration": 40,
    "start_time": "2025-05-22T20:10:05.486Z"
   },
   {
    "duration": 57,
    "start_time": "2025-05-22T20:10:05.528Z"
   },
   {
    "duration": 17,
    "start_time": "2025-05-22T20:10:05.587Z"
   },
   {
    "duration": 71,
    "start_time": "2025-05-22T20:10:05.606Z"
   },
   {
    "duration": 41,
    "start_time": "2025-05-22T20:10:05.679Z"
   },
   {
    "duration": 174,
    "start_time": "2025-05-22T20:10:05.722Z"
   },
   {
    "duration": 168,
    "start_time": "2025-05-22T20:10:05.898Z"
   },
   {
    "duration": 106,
    "start_time": "2025-05-22T20:10:06.068Z"
   },
   {
    "duration": 335,
    "start_time": "2025-05-22T20:10:06.176Z"
   },
   {
    "duration": 89,
    "start_time": "2025-05-22T20:10:06.512Z"
   },
   {
    "duration": 76,
    "start_time": "2025-05-22T20:10:06.602Z"
   },
   {
    "duration": 8,
    "start_time": "2025-05-22T20:10:06.680Z"
   },
   {
    "duration": 46,
    "start_time": "2025-05-22T20:10:06.690Z"
   },
   {
    "duration": 59,
    "start_time": "2025-05-22T20:10:06.738Z"
   },
   {
    "duration": 8,
    "start_time": "2025-05-22T20:10:06.798Z"
   },
   {
    "duration": 26,
    "start_time": "2025-05-22T20:10:06.807Z"
   },
   {
    "duration": 181,
    "start_time": "2025-05-22T20:10:06.835Z"
   },
   {
    "duration": 0,
    "start_time": "2025-05-22T20:10:07.018Z"
   },
   {
    "duration": 0,
    "start_time": "2025-05-22T20:10:07.020Z"
   },
   {
    "duration": 17,
    "start_time": "2025-05-22T20:10:25.256Z"
   },
   {
    "duration": 90,
    "start_time": "2025-05-22T20:10:26.435Z"
   },
   {
    "duration": 8,
    "start_time": "2025-05-22T20:10:27.622Z"
   },
   {
    "duration": 4,
    "start_time": "2025-05-22T20:10:29.735Z"
   },
   {
    "duration": 63,
    "start_time": "2025-05-22T20:28:08.882Z"
   },
   {
    "duration": 70,
    "start_time": "2025-05-22T20:30:45.995Z"
   },
   {
    "duration": 62,
    "start_time": "2025-05-22T20:35:41.545Z"
   },
   {
    "duration": 48,
    "start_time": "2025-05-22T20:35:48.248Z"
   },
   {
    "duration": 90,
    "start_time": "2025-05-22T20:35:52.028Z"
   },
   {
    "duration": 49,
    "start_time": "2025-05-22T20:59:36.278Z"
   },
   {
    "duration": 4,
    "start_time": "2025-05-22T21:01:58.058Z"
   },
   {
    "duration": 4,
    "start_time": "2025-05-22T21:04:52.378Z"
   },
   {
    "duration": 6,
    "start_time": "2025-05-22T21:05:02.276Z"
   },
   {
    "duration": 5,
    "start_time": "2025-05-22T21:05:12.317Z"
   },
   {
    "duration": 6,
    "start_time": "2025-05-22T21:13:58.615Z"
   },
   {
    "duration": 55,
    "start_time": "2025-05-24T09:31:30.571Z"
   },
   {
    "duration": 1501,
    "start_time": "2025-05-24T09:31:38.231Z"
   },
   {
    "duration": 35,
    "start_time": "2025-05-24T09:31:39.735Z"
   },
   {
    "duration": 12,
    "start_time": "2025-05-24T09:31:39.771Z"
   },
   {
    "duration": 7,
    "start_time": "2025-05-24T09:31:39.785Z"
   },
   {
    "duration": 6,
    "start_time": "2025-05-24T09:31:39.794Z"
   },
   {
    "duration": 4,
    "start_time": "2025-05-24T09:31:39.802Z"
   },
   {
    "duration": 24,
    "start_time": "2025-05-24T09:31:39.808Z"
   },
   {
    "duration": 39,
    "start_time": "2025-05-24T09:31:39.833Z"
   },
   {
    "duration": 5,
    "start_time": "2025-05-24T09:31:39.874Z"
   },
   {
    "duration": 464,
    "start_time": "2025-05-24T09:31:39.881Z"
   },
   {
    "duration": 16,
    "start_time": "2025-05-24T09:31:40.347Z"
   },
   {
    "duration": 1786,
    "start_time": "2025-05-24T09:31:40.365Z"
   },
   {
    "duration": 17,
    "start_time": "2025-05-24T09:31:42.153Z"
   },
   {
    "duration": 88,
    "start_time": "2025-05-24T09:31:42.173Z"
   },
   {
    "duration": 10,
    "start_time": "2025-05-24T09:31:42.263Z"
   },
   {
    "duration": 128,
    "start_time": "2025-05-24T09:31:42.274Z"
   },
   {
    "duration": 8,
    "start_time": "2025-05-24T09:31:42.404Z"
   },
   {
    "duration": 9,
    "start_time": "2025-05-24T09:31:42.413Z"
   },
   {
    "duration": 38,
    "start_time": "2025-05-24T09:31:42.423Z"
   },
   {
    "duration": 16,
    "start_time": "2025-05-24T09:31:42.463Z"
   },
   {
    "duration": 14,
    "start_time": "2025-05-24T09:31:42.481Z"
   },
   {
    "duration": 17,
    "start_time": "2025-05-24T09:31:42.497Z"
   },
   {
    "duration": 10,
    "start_time": "2025-05-24T09:31:42.516Z"
   },
   {
    "duration": 170,
    "start_time": "2025-05-24T09:31:42.562Z"
   },
   {
    "duration": 89,
    "start_time": "2025-05-24T09:31:42.733Z"
   },
   {
    "duration": 19,
    "start_time": "2025-05-24T09:31:42.824Z"
   },
   {
    "duration": 73,
    "start_time": "2025-05-24T09:31:42.860Z"
   },
   {
    "duration": 3,
    "start_time": "2025-05-24T09:31:42.935Z"
   },
   {
    "duration": 80,
    "start_time": "2025-05-24T09:31:42.940Z"
   },
   {
    "duration": 1238,
    "start_time": "2025-05-24T10:07:40.388Z"
   },
   {
    "duration": 47,
    "start_time": "2025-05-24T10:07:41.628Z"
   },
   {
    "duration": 13,
    "start_time": "2025-05-24T10:07:41.676Z"
   },
   {
    "duration": 5,
    "start_time": "2025-05-24T10:07:41.691Z"
   },
   {
    "duration": 6,
    "start_time": "2025-05-24T10:07:41.698Z"
   },
   {
    "duration": 5,
    "start_time": "2025-05-24T10:07:41.705Z"
   },
   {
    "duration": 16,
    "start_time": "2025-05-24T10:07:41.712Z"
   },
   {
    "duration": 46,
    "start_time": "2025-05-24T10:07:41.730Z"
   },
   {
    "duration": 60,
    "start_time": "2025-05-24T10:07:41.778Z"
   },
   {
    "duration": 453,
    "start_time": "2025-05-24T10:07:41.840Z"
   },
   {
    "duration": 6,
    "start_time": "2025-05-24T10:07:42.295Z"
   },
   {
    "duration": 2180,
    "start_time": "2025-05-24T10:07:42.302Z"
   },
   {
    "duration": 13,
    "start_time": "2025-05-24T10:07:44.484Z"
   },
   {
    "duration": 11,
    "start_time": "2025-05-24T10:07:44.499Z"
   },
   {
    "duration": 10,
    "start_time": "2025-05-24T10:07:44.512Z"
   },
   {
    "duration": 149,
    "start_time": "2025-05-24T10:07:44.523Z"
   },
   {
    "duration": 7,
    "start_time": "2025-05-24T10:07:44.674Z"
   },
   {
    "duration": 7,
    "start_time": "2025-05-24T10:07:44.683Z"
   },
   {
    "duration": 24,
    "start_time": "2025-05-24T10:07:44.692Z"
   },
   {
    "duration": 16,
    "start_time": "2025-05-24T10:07:44.718Z"
   },
   {
    "duration": 37,
    "start_time": "2025-05-24T10:07:44.735Z"
   },
   {
    "duration": 22,
    "start_time": "2025-05-24T10:07:44.774Z"
   },
   {
    "duration": 10,
    "start_time": "2025-05-24T10:07:44.798Z"
   },
   {
    "duration": 201,
    "start_time": "2025-05-24T10:07:44.809Z"
   },
   {
    "duration": 92,
    "start_time": "2025-05-24T10:07:45.013Z"
   },
   {
    "duration": 23,
    "start_time": "2025-05-24T10:07:45.106Z"
   },
   {
    "duration": 145,
    "start_time": "2025-05-24T10:07:45.131Z"
   },
   {
    "duration": 4,
    "start_time": "2025-05-24T10:07:45.277Z"
   },
   {
    "duration": 8,
    "start_time": "2025-05-24T10:07:45.283Z"
   }
  ],
  "colab": {
   "provenance": [],
   "toc_visible": true
  },
  "kernelspec": {
   "display_name": "Python 3 (ipykernel)",
   "language": "python",
   "name": "python3"
  },
  "language_info": {
   "codemirror_mode": {
    "name": "ipython",
    "version": 3
   },
   "file_extension": ".py",
   "mimetype": "text/x-python",
   "name": "python",
   "nbconvert_exporter": "python",
   "pygments_lexer": "ipython3",
   "version": "3.9.5"
  },
  "toc": {
   "base_numbering": 1,
   "nav_menu": {},
   "number_sections": true,
   "sideBar": true,
   "skip_h1_title": true,
   "title_cell": "Table of Contents",
   "title_sidebar": "Contents",
   "toc_cell": false,
   "toc_position": {},
   "toc_section_display": true,
   "toc_window_display": false
  }
 },
 "nbformat": 4,
 "nbformat_minor": 5
}
